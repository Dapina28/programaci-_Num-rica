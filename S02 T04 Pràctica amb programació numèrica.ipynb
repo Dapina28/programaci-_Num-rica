{
 "cells": [
  {
   "cell_type": "markdown",
   "metadata": {},
   "source": [
    "# Nivell 1\n",
    "## Exercici 1\n",
    "**Crea una funció que donat un Array d’una dimensió, et faci un resum estadístic bàsic de les dades. Si detecta que l’array té més d’una dimensió, ha de mostrar un missatge d’error.**"
   ]
  },
  {
   "cell_type": "code",
   "execution_count": 31,
   "metadata": {},
   "outputs": [
    {
     "name": "stdout",
     "output_type": "stream",
     "text": [
      "Anàlisis bàsic de arr1:\n",
      "Mediana: 3.0\n",
      "Mitjana: 3.0 \n",
      "Desviació estàndar: 1.41\n",
      "\n",
      "Anàlisis bàsic de arr2: Error! Dimensió massa gran\n"
     ]
    }
   ],
   "source": [
    "import numpy as np\n",
    "arr1 = np.array([1,2,3,4,5])\n",
    "arr2 = np.array([[1,2,3,4,5], [1,2,3,4,5]])\n",
    "\n",
    "def analisis(arr):\n",
    "    if arr.ndim > 1:\n",
    "        return \"Error! Dimensió massa gran\"\n",
    "    else:\n",
    "        return f\"Mediana: {np.median(arr)}\\nMitjana: {np.mean(arr)} \\nDesviació estàndar: {round(np.std(arr), 2)}\\n\"\n",
    "\n",
    "print(f\"Anàlisis bàsic de arr1:\\n{analisis(arr1)}\")\n",
    "print(f\"Anàlisis bàsic de arr2: {analisis(arr2)}\")\n",
    "    "
   ]
  },
  {
   "cell_type": "markdown",
   "metadata": {},
   "source": [
    "## Exercici 2\n",
    "**Crea una funció que et generi un quadrat NxN de nombres aleatoris entre el 0 i el 100.**"
   ]
  },
  {
   "cell_type": "code",
   "execution_count": 32,
   "metadata": {},
   "outputs": [
    {
     "name": "stdout",
     "output_type": "stream",
     "text": [
      "Quines dimensions vols que tingui una matriu quadrada? 5\n"
     ]
    },
    {
     "data": {
      "text/plain": [
       "array([[46, 48, 76, 37, 41],\n",
       "       [56, 85, 99, 24, 59],\n",
       "       [83,  3, 32, 36, 79],\n",
       "       [83,  9, 54, 64, 49],\n",
       "       [47,  8, 15, 54, 53]])"
      ]
     },
     "execution_count": 32,
     "metadata": {},
     "output_type": "execute_result"
    }
   ],
   "source": [
    "num = int(input(\"Quines dimensions vols que tingui una matriu quadrada? \"))\n",
    "\n",
    "def creaMatriu(num):\n",
    "    A = np.random.randint(0, high = 100, size=[num, num])\n",
    "    return A\n",
    "\n",
    "creaMatriu(num)\n",
    "\n"
   ]
  },
  {
   "cell_type": "markdown",
   "metadata": {},
   "source": [
    "## Exercici 3\n",
    "**Crea una funció que donada una taula de dues dimensions, et calculi els totals per fila i els totals per columna.**"
   ]
  },
  {
   "cell_type": "code",
   "execution_count": 35,
   "metadata": {},
   "outputs": [
    {
     "name": "stdout",
     "output_type": "stream",
     "text": [
      "    0   1   2   3   4\n",
      "0  66  32  90   4  85\n",
      "1  15  11  40  82  31\n",
      "2  77  45  57  10  27\n",
      "3   9  16  80  43  63\n",
      "4  71  27  76  75  79\n"
     ]
    },
    {
     "data": {
      "text/plain": [
       "'Suma de les columnes: 0    238\\n1    131\\n2    343\\n3    214\\n4    285\\ndtype: int64\\nSuma de les files: 0    277\\n1    179\\n2    216\\n3    211\\n4    328\\ndtype: int64'"
      ]
     },
     "execution_count": 35,
     "metadata": {},
     "output_type": "execute_result"
    }
   ],
   "source": [
    "import pandas as pd\n",
    "A = np.random.randint(0, high = 100, size=[5,5])\n",
    "df = pd.DataFrame(A)\n",
    "print(df)\n",
    "\n",
    "def fun(df):\n",
    "    return(f\"Suma de les columnes: {df.sum()}\\nSuma de les files: {df.sum(axis = 1)}\")\n",
    "\n",
    "fun(df)\n",
    "    "
   ]
  },
  {
   "cell_type": "markdown",
   "metadata": {},
   "source": [
    "## Exercici 4\n",
    "**Implementa manualment una funció que calculi el coeficient de correlació. Informa’t-en sobre els seus usos i interpretació.**"
   ]
  },
  {
   "cell_type": "code",
   "execution_count": 113,
   "metadata": {},
   "outputs": [
    {
     "data": {
      "text/html": [
       "<div>\n",
       "<style scoped>\n",
       "    .dataframe tbody tr th:only-of-type {\n",
       "        vertical-align: middle;\n",
       "    }\n",
       "\n",
       "    .dataframe tbody tr th {\n",
       "        vertical-align: top;\n",
       "    }\n",
       "\n",
       "    .dataframe thead th {\n",
       "        text-align: right;\n",
       "    }\n",
       "</style>\n",
       "<table border=\"1\" class=\"dataframe\">\n",
       "  <thead>\n",
       "    <tr style=\"text-align: right;\">\n",
       "      <th></th>\n",
       "      <th>0</th>\n",
       "      <th>1</th>\n",
       "      <th>2</th>\n",
       "    </tr>\n",
       "  </thead>\n",
       "  <tbody>\n",
       "    <tr>\n",
       "      <th>0</th>\n",
       "      <td>43</td>\n",
       "      <td>50</td>\n",
       "      <td>9</td>\n",
       "    </tr>\n",
       "    <tr>\n",
       "      <th>1</th>\n",
       "      <td>89</td>\n",
       "      <td>59</td>\n",
       "      <td>85</td>\n",
       "    </tr>\n",
       "  </tbody>\n",
       "</table>\n",
       "</div>"
      ],
      "text/plain": [
       "    0   1   2\n",
       "0  43  50   9\n",
       "1  89  59  85"
      ]
     },
     "execution_count": 113,
     "metadata": {},
     "output_type": "execute_result"
    }
   ],
   "source": [
    "A = np.random.randint(0, high = 100, size=[2,3])\n",
    "df = pd.DataFrame(A)\n",
    "df"
   ]
  },
  {
   "cell_type": "code",
   "execution_count": 168,
   "metadata": {},
   "outputs": [
    {
     "name": "stdout",
     "output_type": "stream",
     "text": [
      "El coeficient de correlació és:-0.0004\n"
     ]
    }
   ],
   "source": [
    " def corr(df):   \n",
    "    numer = 0\n",
    "    denom1 = 0\n",
    "    denom2 = 0\n",
    "    meanX = df.loc[0].mean()\n",
    "    meanY = df.loc[1].mean()\n",
    "    for x in df:\n",
    "        numer += (df[x][0]-meanX)*(df[x][1]-meanY)\n",
    "        denom1 += (df[x][0]-meanX)**2\n",
    "        denom2 += (df[x][1]-meanY)**2\n",
    "    r = round((numer/(denom1*denom2)**1/2),4)\n",
    "    return r\n",
    "\n",
    "print(f\"El coeficient de correlació és:{corr(df)}\")\n",
    "    \n",
    "\n",
    "        \n",
    "             \n",
    "    "
   ]
  }
 ],
 "metadata": {
  "kernelspec": {
   "display_name": "Python 3 (ipykernel)",
   "language": "python",
   "name": "python3"
  },
  "language_info": {
   "codemirror_mode": {
    "name": "ipython",
    "version": 3
   },
   "file_extension": ".py",
   "mimetype": "text/x-python",
   "name": "python",
   "nbconvert_exporter": "python",
   "pygments_lexer": "ipython3",
   "version": "3.9.12"
  }
 },
 "nbformat": 4,
 "nbformat_minor": 4
}
