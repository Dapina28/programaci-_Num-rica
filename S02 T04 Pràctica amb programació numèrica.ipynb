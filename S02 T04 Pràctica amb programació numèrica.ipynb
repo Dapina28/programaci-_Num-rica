{
 "cells": [
  {
   "cell_type": "markdown",
   "metadata": {},
   "source": [
    "# Nivell 1\n",
    "## Exercici 1\n",
    "**Crea una funció que donat un Array d’una dimensió, et faci un resum estadístic bàsic de les dades. Si detecta que l’array té més d’una dimensió, ha de mostrar un missatge d’error.**"
   ]
  },
  {
   "cell_type": "code",
   "execution_count": 1,
   "metadata": {},
   "outputs": [
    {
     "name": "stdout",
     "output_type": "stream",
     "text": [
      "Anàlisis bàsic de arr1:\n",
      "Mediana: 3.0\n",
      "Mitjana: 3.0 \n",
      "Desviació estàndar: 1.41\n",
      "\n",
      "Anàlisis bàsic de arr2: Error! Dimensió massa gran\n"
     ]
    }
   ],
   "source": [
    "import numpy as np\n",
    "arr1 = np.array([1,2,3,4,5])\n",
    "arr2 = np.array([[1,2,3,4,5], [1,2,3,4,5]])\n",
    "\n",
    "def analisis(arr):\n",
    "    if arr.ndim > 1:\n",
    "        return \"Error! Dimensió massa gran\"\n",
    "    else:\n",
    "        return f\"Mediana: {np.median(arr)}\\nMitjana: {np.mean(arr)} \\nDesviació estàndar: {round(np.std(arr), 2)}\\n\"\n",
    "\n",
    "print(f\"Anàlisis bàsic de arr1:\\n{analisis(arr1)}\")\n",
    "print(f\"Anàlisis bàsic de arr2: {analisis(arr2)}\")\n",
    "    "
   ]
  },
  {
   "cell_type": "markdown",
   "metadata": {},
   "source": [
    "## Exercici 2\n",
    "**Crea una funció que et generi un quadrat NxN de nombres aleatoris entre el 0 i el 100.**"
   ]
  },
  {
   "cell_type": "code",
   "execution_count": 8,
   "metadata": {},
   "outputs": [
    {
     "name": "stdout",
     "output_type": "stream",
     "text": [
      "Quines dimensions vols que tingui una matriu quadrada? 5\n"
     ]
    },
    {
     "data": {
      "text/plain": [
       "array([[ 2.26, 90.15, 67.32, 41.94, 32.21],\n",
       "       [14.89, 14.45, 70.83, 17.8 , 85.28],\n",
       "       [73.8 , 67.87,  4.13, 71.76, 22.98],\n",
       "       [54.31, 39.47, 13.81, 77.77, 28.44],\n",
       "       [36.89, 35.09, 17.04, 32.56, 62.15]])"
      ]
     },
     "execution_count": 8,
     "metadata": {},
     "output_type": "execute_result"
    }
   ],
   "source": [
    "num = int(input(\"Quines dimensions vols que tingui una matriu quadrada? \"))\n",
    "\n",
    "def creaMatriu(num):\n",
    "    A = np.random.random((num,num))*100\n",
    "    return np.round(A, 2)\n",
    "\n",
    "creaMatriu(num)\n",
    "\n"
   ]
  },
  {
   "cell_type": "markdown",
   "metadata": {},
   "source": [
    "## Exercici 3\n",
    "**Crea una funció que donada una taula de dues dimensions, et calculi els totals per fila i els totals per columna.**"
   ]
  },
  {
   "cell_type": "code",
   "execution_count": 25,
   "metadata": {},
   "outputs": [
    {
     "name": "stdout",
     "output_type": "stream",
     "text": [
      "      0     1     2     3\n",
      "0  2.39  8.77  4.70  3.69\n",
      "1  7.46  5.17  6.02  4.78\n",
      "2  5.07  1.65  8.83  6.12\n"
     ]
    },
    {
     "data": {
      "text/plain": [
       "'Suma de les columnes: 0    14.92\\n1    15.59\\n2    19.55\\n3    14.59\\ndtype: float64\\nSuma de les files: 0    19.55\\n1    23.43\\n2    21.67\\ndtype: float64'"
      ]
     },
     "execution_count": 25,
     "metadata": {},
     "output_type": "execute_result"
    }
   ],
   "source": [
    "import pandas as pd\n",
    "A = np.round(np.random.random((3,4))*10,2)\n",
    "df = pd.DataFrame(A)\n",
    "print(df)\n",
    "\n",
    "def fun(df):\n",
    "    return(f\"Suma de les columnes: {df.sum()}\\nSuma de les files: {df.sum(axis = 1)}\")\n",
    "\n",
    "fun(df)\n",
    "    "
   ]
  },
  {
   "cell_type": "markdown",
   "metadata": {},
   "source": [
    "## Exercici 4\n",
    "**Implementa manualment una funció que calculi el coeficient de correlació. Informa’t-en sobre els seus usos i interpretació.**"
   ]
  },
  {
   "cell_type": "code",
   "execution_count": null,
   "metadata": {},
   "outputs": [],
   "source": []
  }
 ],
 "metadata": {
  "kernelspec": {
   "display_name": "Python 3 (ipykernel)",
   "language": "python",
   "name": "python3"
  },
  "language_info": {
   "codemirror_mode": {
    "name": "ipython",
    "version": 3
   },
   "file_extension": ".py",
   "mimetype": "text/x-python",
   "name": "python",
   "nbconvert_exporter": "python",
   "pygments_lexer": "ipython3",
   "version": "3.9.12"
  }
 },
 "nbformat": 4,
 "nbformat_minor": 4
}
