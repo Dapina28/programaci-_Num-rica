{
 "cells": [
  {
   "cell_type": "markdown",
   "metadata": {},
   "source": [
    "# Nivell 1\n",
    "## Exercici 1\n",
    "**Crea una funció que donat un Array d’una dimensió, et faci un resum estadístic bàsic de les dades. Si detecta que l’array té més d’una dimensió, ha de mostrar un missatge d’error.**"
   ]
  },
  {
   "cell_type": "code",
   "execution_count": 2,
   "metadata": {},
   "outputs": [
    {
     "name": "stdout",
     "output_type": "stream",
     "text": [
      "Anàlisis bàsic de arr1:\n",
      "Mediana: 3.0\n",
      "Mitjana: 3.0 \n",
      "Desviació estàndar: 1.41\n",
      "\n",
      "Anàlisis bàsic de arr2: Error! Dimensió massa gran\n"
     ]
    }
   ],
   "source": [
    "import numpy as np\n",
    "arr1 = np.array([1,2,3,4,5])\n",
    "arr2 = np.array([[1,2,3,4,5], [1,2,3,4,5]])\n",
    "\n",
    "def analisis(arr):\n",
    "    if arr.ndim > 1:\n",
    "        return \"Error! Dimensió massa gran\"\n",
    "    else:\n",
    "        return f\"Mediana: {np.median(arr)}\\nMitjana: {np.mean(arr)} \\nDesviació estàndar: {round(np.std(arr), 2)}\\n\"\n",
    "\n",
    "print(f\"Anàlisis bàsic de arr1:\\n{analisis(arr1)}\")\n",
    "print(f\"Anàlisis bàsic de arr2: {analisis(arr2)}\")\n",
    "    "
   ]
  },
  {
   "cell_type": "markdown",
   "metadata": {},
   "source": [
    "## Exercici 2\n",
    "**Crea una funció que et generi un quadrat NxN de nombres aleatoris entre el 0 i el 100.**"
   ]
  },
  {
   "cell_type": "code",
   "execution_count": 20,
   "metadata": {},
   "outputs": [
    {
     "name": "stdout",
     "output_type": "stream",
     "text": [
      "Quines dimensions vols que tingui una matriu quadrada? 5\n"
     ]
    },
    {
     "data": {
      "text/plain": [
       "array([[ 8, 65, 51, 64, 85],\n",
       "       [84, 32, 90,  7,  3],\n",
       "       [62, 24, 25,  0, 61],\n",
       "       [78, 42, 16, 81, 92],\n",
       "       [96, 57, 51, 86, 45]])"
      ]
     },
     "execution_count": 20,
     "metadata": {},
     "output_type": "execute_result"
    }
   ],
   "source": [
    "num = int(input(\"Quines dimensions vols que tingui una matriu quadrada? \"))\n",
    "\n",
    "def creaMatriu(num):\n",
    "    A = np.random.randint(low=0,high=100,size=(num,num))\n",
    "    return A\n",
    "\n",
    "creaMatriu(num)\n",
    "\n"
   ]
  },
  {
   "cell_type": "markdown",
   "metadata": {},
   "source": [
    "## Exercici 3\n",
    "**Crea una funció que donada una taula de dues dimensions, et calculi els totals per fila i els totals per columna.**"
   ]
  },
  {
   "cell_type": "code",
   "execution_count": 21,
   "metadata": {},
   "outputs": [
    {
     "name": "stdout",
     "output_type": "stream",
     "text": [
      "      0     1     2     3\n",
      "0  3.01  9.75  8.42  1.90\n",
      "1  6.11  4.18  2.19  6.18\n",
      "2  6.03  3.18  2.25  5.52\n"
     ]
    },
    {
     "data": {
      "text/plain": [
       "'Suma de les columnes: 0    15.15\\n1    17.11\\n2    12.86\\n3    13.60\\ndtype: float64\\nSuma de les files: 0    23.08\\n1    18.66\\n2    16.98\\ndtype: float64'"
      ]
     },
     "execution_count": 21,
     "metadata": {},
     "output_type": "execute_result"
    }
   ],
   "source": [
    "import pandas as pd\n",
    "A = np.round(np.random.random((3,4))*10,2)\n",
    "df = pd.DataFrame(A)\n",
    "print(df)\n",
    "\n",
    "def fun(df):\n",
    "    return(f\"Suma de les columnes: {df.sum()}\\nSuma de les files: {df.sum(axis = 1)}\")\n",
    "\n",
    "fun(df)\n",
    "    "
   ]
  },
  {
   "cell_type": "markdown",
   "metadata": {},
   "source": [
    "## Exercici 4\n",
    "**Implementa manualment una funció que calculi el coeficient de correlació. Informa’t-en sobre els seus usos i interpretació.**"
   ]
  },
  {
   "cell_type": "code",
   "execution_count": 104,
   "metadata": {},
   "outputs": [
    {
     "ename": "TypeError",
     "evalue": "'int' object is not subscriptable",
     "output_type": "error",
     "traceback": [
      "\u001b[1;31m---------------------------------------------------------------------------\u001b[0m",
      "\u001b[1;31mTypeError\u001b[0m                                 Traceback (most recent call last)",
      "\u001b[1;32m<ipython-input-104-dadfaf22f747>\u001b[0m in \u001b[0;36m<module>\u001b[1;34m\u001b[0m\n\u001b[0;32m      2\u001b[0m \u001b[1;33m\u001b[0m\u001b[0m\n\u001b[0;32m      3\u001b[0m \u001b[1;32mfor\u001b[0m \u001b[0mx\u001b[0m \u001b[1;32min\u001b[0m \u001b[0mdf\u001b[0m\u001b[1;33m:\u001b[0m\u001b[1;33m\u001b[0m\u001b[1;33m\u001b[0m\u001b[0m\n\u001b[1;32m----> 4\u001b[1;33m     \u001b[0mprint\u001b[0m\u001b[1;33m(\u001b[0m\u001b[0mx\u001b[0m\u001b[1;33m[\u001b[0m\u001b[1;36m0\u001b[0m\u001b[1;33m]\u001b[0m\u001b[1;33m)\u001b[0m\u001b[1;33m\u001b[0m\u001b[1;33m\u001b[0m\u001b[0m\n\u001b[0m\u001b[0;32m      5\u001b[0m     \u001b[1;32mfor\u001b[0m \u001b[0my\u001b[0m \u001b[1;32min\u001b[0m \u001b[0mx\u001b[0m\u001b[1;33m:\u001b[0m\u001b[1;33m\u001b[0m\u001b[1;33m\u001b[0m\u001b[0m\n\u001b[0;32m      6\u001b[0m         \u001b[1;31m#print(y[0])\u001b[0m\u001b[1;33m\u001b[0m\u001b[1;33m\u001b[0m\u001b[1;33m\u001b[0m\u001b[0m\n",
      "\u001b[1;31mTypeError\u001b[0m: 'int' object is not subscriptable"
     ]
    }
   ],
   "source": [
    "#print(df[0])\n",
    "\n",
    "for x in df:\n",
    "    print(x[0])\n",
    "    for y in x:\n",
    "        #print(y[0])\n",
    "        X = y - df[y].mean()\n",
    "        #Y = \n",
    "        \n",
    "    \n",
    "\n",
    "#print(f\"La matriu de correlació de la matriu A és:\\n {corr(A)}\")"
   ]
  },
  {
   "cell_type": "code",
   "execution_count": null,
   "metadata": {},
   "outputs": [],
   "source": []
  }
 ],
 "metadata": {
  "kernelspec": {
   "display_name": "Python 3",
   "language": "python",
   "name": "python3"
  },
  "language_info": {
   "codemirror_mode": {
    "name": "ipython",
    "version": 3
   },
   "file_extension": ".py",
   "mimetype": "text/x-python",
   "name": "python",
   "nbconvert_exporter": "python",
   "pygments_lexer": "ipython3",
   "version": "3.7.6"
  }
 },
 "nbformat": 4,
 "nbformat_minor": 4
}
